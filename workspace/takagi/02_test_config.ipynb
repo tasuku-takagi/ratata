{
 "cells": [
  {
   "cell_type": "code",
   "execution_count": 31,
   "metadata": {},
   "outputs": [],
   "source": [
    "import sys\n",
    "sys.path.append(\"../../\")\n",
    "from ratata.config import load_config\n",
    "from ratata.production import SrcSelector"
   ]
  },
  {
   "cell_type": "code",
   "execution_count": 32,
   "metadata": {},
   "outputs": [],
   "source": [
    "config_path = \"../../configs/ver2_soft_blur_additional_param.yml\""
   ]
  },
  {
   "cell_type": "code",
   "execution_count": 33,
   "metadata": {},
   "outputs": [
    {
     "name": "stdout",
     "output_type": "stream",
     "text": [
      "{'model_path': './models/yolo/yolo11m-seg.pt', 'model_path_tie': './models/yolo/yolo11m-seg.pt', 'target_size': [1280, 720], 'blur': 'soft', 'matt': True, 'enhance': True, 'debug': False, 'fade_in_end': 2.0, 'hold_end': 20.0, 'fade_out_end': 30.0, 'ratio_threshold': 0.01, 'bg_dir': './src/bg', 'bg_names': ['bg_dark.jpg', 'bg_dark.jpg', 'bg_dark.jpg', 'bg_dark.jpg', 'bg_dark.jpg'], 'video_dir': './src/videos', 'video_names': ['dark_00.mp4', 'dark_01.mp4', 'dark_02.mp4', 'dark_03.mp4', 'dark_04.mp4']}\n"
     ]
    }
   ],
   "source": [
    "config = load_config(config_path)\n",
    "print(config)"
   ]
  },
  {
   "cell_type": "code",
   "execution_count": 34,
   "metadata": {},
   "outputs": [],
   "source": [
    "src_selector = SrcSelector(config.bg_dir, config.bg_names, config.video_dir, config.video_names)"
   ]
  },
  {
   "cell_type": "code",
   "execution_count": 35,
   "metadata": {},
   "outputs": [
    {
     "name": "stdout",
     "output_type": "stream",
     "text": [
      "['src\\\\bg\\\\bg_dark.jpg', 'src\\\\bg\\\\bg_dark.jpg', 'src\\\\bg\\\\bg_dark.jpg', 'src\\\\bg\\\\bg_dark.jpg', 'src\\\\bg\\\\bg_dark.jpg']\n",
      "['src\\\\videos\\\\dark_00.mp4', 'src\\\\videos\\\\dark_01.mp4', 'src\\\\videos\\\\dark_02.mp4', 'src\\\\videos\\\\dark_03.mp4', 'src\\\\videos\\\\dark_04.mp4']\n"
     ]
    }
   ],
   "source": [
    "print(src_selector.bg_paths)\n",
    "print(src_selector.video_paths)"
   ]
  },
  {
   "cell_type": "code",
   "execution_count": 79,
   "metadata": {},
   "outputs": [
    {
     "name": "stdout",
     "output_type": "stream",
     "text": [
      "4\n"
     ]
    }
   ],
   "source": [
    "bg_path, video_path = src_selector.get_next_src()"
   ]
  }
 ],
 "metadata": {
  "kernelspec": {
   "display_name": "test",
   "language": "python",
   "name": "python3"
  },
  "language_info": {
   "codemirror_mode": {
    "name": "ipython",
    "version": 3
   },
   "file_extension": ".py",
   "mimetype": "text/x-python",
   "name": "python",
   "nbconvert_exporter": "python",
   "pygments_lexer": "ipython3",
   "version": "3.12.8"
  }
 },
 "nbformat": 4,
 "nbformat_minor": 2
}
